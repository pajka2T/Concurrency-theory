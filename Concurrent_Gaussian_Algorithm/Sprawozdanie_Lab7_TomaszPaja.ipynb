{
 "cells": [
  {
   "cell_type": "markdown",
   "source": [
    "# Sprawozdanie - Laboratorium 7\n",
    "## Autor: Tomasz Paja\n",
    "### Cel zadania:\n",
    "Zadanie polega na wykonaniu następujących etapów (dla macierzy o rozmiarze $N$): \n",
    "1. Proszę zlokalizować niepodzielne czynności wykonywane przez algorytm, nazwać je oraz zbudować alfabet w sensie teorii śladów.  \n",
    "2. Proszę skonstruować relację zależności dla alfabetu, opisującego algorytm eliminacji Gaussa.  \n",
    "3. Proszę przedstawić algorytm eliminacji Gaussa w postaci ciągu symboli alfabetu.  \n",
    "4. Proszę wygenerować graf zależności Diekerta.  \n",
    "5. Proszę przekształcić ciąg symboli opisujący algorytm do postaci normalnej Foaty.  \n",
    "\n",
    "Proszę zaprojektować i zaimplementować współbieżny algorytm eliminacji Gaussa. W szczególności proszę zwrócić uwagę na implementację jak najlepiej odwzorowującą graf zależności lub postać normalną Foaty.  \n",
    "Program ma działać dla zadanych rozmiarów macierzy $N$.  \n",
    "\n",
    "### Wprowadzenie  \n",
    "Dany jest problem rozwiązania układu równań liniowych, który reprezentowany jest przez wektor zmiennych $x$, wektor wyrazów wolnych $y$ oraz macierz współczynników $M$. Wektory $x$ oraz $y$ mają długość $N$, zaś macierz $M$ jst macierzą kwadratową o wymiarach $N$ x $N$. Elementy wektorów $x$ oraz $y$ będziemy przedstawiać jako $x_i$ i $y_i$, zaś macierzy $M$ jako $M_{i,j}$. Sprowadza się to do następującego równania: $M * x = y$, które można reprezentować jako:  \n",
    "\n",
    "\n",
    "$$\n",
    "\\begin{bmatrix}\n",
    "    M_{1,1} & M_{1,2} & M_{1,3} & \\cdots & M_{1,n} \\\\\n",
    "    M_{2,1} & M_{2,2} & M_{3,2} & \\cdots & M_{1,n} \\\\\n",
    "    M_{3,1} & M_{3,2} & M_{3,3} & \\cdots & M_{1,n} \\\\\n",
    "    \\vdots & \\vdots & \\vdots & \\ddots & \\vdots \\\\\n",
    "    M_{n,1} & M_{n,2} & M_{n,3} & \\cdots & M_{n,n}\n",
    "\\end{bmatrix}\n",
    "\\begin{bmatrix}\n",
    "    x_1 \\\\\n",
    "    x_2 \\\\\n",
    "    x_3 \\\\\n",
    "    \\vdots \\\\\n",
    "    x_n\n",
    "\\end{bmatrix}\n",
    "=\n",
    "\\begin{bmatrix}\n",
    "    y_1 \\\\\n",
    "    y_2 \\\\\n",
    "    y_3 \\\\\n",
    "    \\vdots \\\\\n",
    "    y_n\n",
    "\\end{bmatrix}\n",
    "$$  \n",
    "Dla uproszczenia operacji, rozszerzmy macierz $M$ o wektor $y$:  \n",
    "$$\n",
    "\\left[\n",
    "\\begin{array}{ccccc|c}\n",
    "    M_{1,1} & M_{1,2} & M_{1,3} & \\cdots & M_{1,n} & y_1 \\\\\n",
    "    M_{2,1} & M_{2,2} & M_{3,2} & \\cdots & M_{1,n} & y_2 \\\\\n",
    "    M_{3,1} & M_{3,2} & M_{3,3} & \\cdots & M_{1,n} & y_2 \\\\\n",
    "    \\vdots & \\vdots & \\vdots & \\ddots & \\vdots & \\vdots \\\\\n",
    "    M_{n,1} & M_{n,2} & M_{n,3} & \\cdots & M_{n,n} & y_2 \n",
    "\\end{array}\n",
    "\\right]\n",
    "$$\n",
    "Teraz macierz ma $N+1$ kolumn - trzeba będzie to uwzględnić w algorytmie.  \n",
    "### Lokalizacja niepodzielnych czynności algorytmu  \n",
    "\n",
    "Jak powszechnie wiadomo, algorytm Gaussa wykonuje kolejno pewne kroki dla każdego wiersza macierzy, w celu uzyskania macierzy trójkątnej górnej. Nieuwzględniając pivotingu kroki są następujące, poczynając od pierwszego wiersza (i uwzględniając $N+1$ kolumn):  \n",
    "1. Dla danego $i$-tego wiersza bierze jego $i$-ty element.  \n",
    "2. Dla każdego wiersza $k$ poniżej $i$-tego dzieli wartości elementu $M_{k, i}$ przez wartość elementu $M_{i,i}$ - uzyskuje w ten sposób mnożnik.\n",
    "3. Dla każdego $j \\in \\{i, i+1, \\ldots, N+1\\}$ mnoży element $M_{i,j}$ macierzy przez uzyskany mnożnik i odejmuje uzyskany iloczyn od elementu $M_{k,j}$ - w ten sposób element $M_{k,i}$ jest zerowany.  \n",
    "\n",
    "Można zatem wyróżnić trzy główne czynności wykonywane przez algorytm:  \n",
    "1. Szukanie mnożnika.  \n",
    "2. Pomnożenie danego elementu przez uzyskany mnożnik.  \n",
    "3. Odjęcie uzyskanego iloczynu od odpowiedniego elementu.  \n",
    "\n",
    "Oznaczymy te czynności jako:  \n",
    "1. $A_{i,k}$ - znalezienie mnożnika dla wiersza $i$, do odejmowania go od $k$-tego wiersza.  \n",
    "2. $B_{i,j,k}$ - pomnożenie $j$-tego elementu wiersza $i$ przez mnożnik, do odejmowania od $k$-tego wiersza.  \n",
    "3. $C_{i,j,k}$ - odjęcie obliczonego iloczynu dla $j$-tej kolumny od wiersza $k$.  \n",
    "\n",
    "### Działanie algorytmu  \n",
    "Algorytm będzie wykonywał te zadania w odpowiedniej kolejności, którą można zademonstrować poniższym pseudokodem:  \n",
    "```\n",
    "for i in range(N):\n",
    "    for k in range(i+1, N):\n",
    "        do A(i,k)\n",
    "        for j in range(i, N+1):\n",
    "            do B(i,j,k)\n",
    "            do C(i,j,k)\n",
    "```\n",
    "Jak widać, algorytm będzie wykonywał operacje w następującej kolejności (dla macierzy o wymiarach $3 \\times 3$:  \n",
    "1. Dla pierwszego wiersza:  \n",
    "\n",
    "Obliczanie drugiego wiersza:\n",
    "$$\n",
    "A_{1,2}, B_{1,1,2}, C_{1,1,2}, B_{1,2,2}, C_{1,2,2}, B_{1,3,2}, C_{1,3,2}, B_{1,4,2}, C_{1,4,2}\n",
    "$$\n",
    "Obliczanie trzeciego wiersza:\n",
    "$$\n",
    "A_{1,3}, B_{1,1,3}, C_{1,1,3}, B_{1,2,3}, C_{1,2,3}, B_{1,3,3}, C_{1,3,3}, B_{1,4,3}, C_{1,4,3}\n",
    "$$\n",
    "2. Dla drugiego wiersza:  \n",
    "\n",
    "Obliczanie trzeciego wiersza:\n",
    "$$\n",
    "A_{2,3}, B_{2,2,3}, C_{2,2,3}, B_{2,3,3}, C_{2,3,3}, B_{2,4,3}, C_{2,4,3}\n",
    "$$\n",
    "\n",
    "Cała sekwencja działania algorytmu wyglądać więc będzie następująco:  \n",
    "$$\n",
    "\\begin{aligned}\n",
    "A_{1,2}, B_{1,1,2}, C_{1,1,2}, B_{1,2,2}, C_{1,2,2}, B_{1,3,2}, C_{1,3,2}, B_{1,4,2}, C_{1,4,2}, \\\\\n",
    "A_{1,3}, B_{1,1,3}, C_{1,1,3}, B_{1,2,3}, C_{1,2,3}, B_{1,3,3}, C_{1,3,3}, B_{1,4,3}, C_{1,4,3}, \\\\\n",
    "A_{2,3}, B_{2,2,3}, C_{2,2,3}, B_{2,3,3}, C_{2,3,3}, B_{2,4,3}, C_{2,4,3}\n",
    "\\end{aligned}\n",
    "$$\n",
    "\n",
    "### Tworzenie alfabetu  \n",
    "Na podstawie powyższego przykładu możemy stworzyć alfabet dla naszego problemu.  \n",
    "1. Czynności $A$:  \n",
    "Wiemy, że czynności $A_{i,k}$ wykonywane są dla każdego $i \\in \\{1, 2, \\ldots, N\\}$ (wszystkich wierszy) i wszystkich $k$ dla tego $i$, takich, że $k \\in \\{i+1, i+2, \\ldots, N\\}$. Zatem można utworzyć taki zbiór A:  \n",
    "$$\n",
    "A = \\{ A_{i,k} \\mid i \\in \\{1, 2, \\ldots, N\\} \\land k \\in \\{i+1, i+2, \\ldots, N\\} \\}\n",
    "$$\n",
    "Należą do niego wszystkie czynności $A$, które algorytm wykona w trakcie działania.  \n",
    "2. Czynności $B$:  \n",
    "Dla każdego wiersza macierzy, a zatem dla każdego $i \\in \\{1, 2, \\ldots, N\\}$, i dla każdego wiersza niżej wiersza $i$, czyli wierszy $k \\in \\{i+1, i+2, \\ldots, N\\}$, wykonywana jest czynność mnożenia wartości w $j$-tej kolumnie wiersza $i$ i $k$, począwszy od kolumny o indeksie $i$. Można zatem zbiór takich czynności zapisać następująco:  \n",
    "$$\n",
    "B = \\{ B_{i,j,k} \\mid i \\in \\{1, 2, \\ldots, N\\} \\land j \\in \\{i, i+1, \\ldots, N+1\\} \\land k \\in \\{i+1, i+2, \\ldots, N\\} \\}\n",
    "$$\n",
    "3. Czynności $C$:  \n",
    "Występuje tutaj pewna analogia do czynności $B$, ponieważ dla każdej czynności $B_{i,j,k} \\in B$ występuje czynność $C_{i,j,k}$, która jest wykonywana od razu po czynności $B_{i,j,k}$. Zbiór $C$ będzie zatem wyglądał analogicznie do zbioru $B$:  \n",
    "$$\n",
    "C = \\{ C_{i,j,k} \\mid i \\in \\{1, 2, \\ldots, N\\} \\land j \\in \\{i, i+1, \\ldots, N+1\\} \\land k \\in \\{i+1, i+2, \\ldots, N\\} \\}\n",
    "$$\n",
    "Cały alfabet $\\Sigma$ problemu będzie sumą zbiorów $A$, $B$ i $C$:  \n",
    "$$\n",
    "\\Sigma = A \\cup B \\cup C\n",
    "$$\n",
    "\n",
    "Funkcja, która generuje alfabet, może wyglądać następująco:  "
   ],
   "metadata": {
    "collapsed": false
   },
   "id": "d4ec599bae2bad28"
  },
  {
   "cell_type": "code",
   "execution_count": 10,
   "outputs": [],
   "source": [
    "from copy import deepcopy\n",
    "\n",
    "def create_alphabet_and_sequence(N: int) -> tuple[list[str], list[str]]:\n",
    "    alphabet = []\n",
    "    for i in range(1, N+1):\n",
    "        for k in range(i+1, N+1):\n",
    "            alphabet.append(f'A_{i},{k}')\n",
    "            for j in range(i, N+2):\n",
    "                alphabet.append(f'B_{i},{j},{k}')\n",
    "                alphabet.append(f'C_{i},{j},{k}')\n",
    "    sequence = deepcopy(alphabet)\n",
    "    alphabet.sort()\n",
    "    return alphabet, sequence\n",
    "# end def"
   ],
   "metadata": {
    "collapsed": false,
    "ExecuteTime": {
     "end_time": "2024-12-17T10:41:58.399700200Z",
     "start_time": "2024-12-17T10:41:58.368705800Z"
    }
   },
   "id": "4eadd97ff107f27c"
  },
  {
   "cell_type": "markdown",
   "source": [
    "Dodaje ona po prostu wszystkie czynności, które będą wykonywane podczas wykonywania algorytmu. Co ciekawe, sposób w jaki są dodawane, pozwala na automatyczne skonstruowanie sekwencji działania algorytmu, która przyda się później. Wywołajmy tę funkcję dla $N = 3$ i spójrzmy na alfabet:   "
   ],
   "metadata": {
    "collapsed": false
   },
   "id": "8d3046ed92f80226"
  },
  {
   "cell_type": "code",
   "execution_count": 11,
   "outputs": [
    {
     "name": "stdout",
     "output_type": "stream",
     "text": [
      "['A_1,2', 'A_1,3', 'A_2,3', 'B_1,1,2', 'B_1,1,3', 'B_1,2,2', 'B_1,2,3', 'B_1,3,2', 'B_1,3,3', 'B_1,4,2', 'B_1,4,3', 'B_2,2,3', 'B_2,3,3', 'B_2,4,3', 'C_1,1,2', 'C_1,1,3', 'C_1,2,2', 'C_1,2,3', 'C_1,3,2', 'C_1,3,3', 'C_1,4,2', 'C_1,4,3', 'C_2,2,3', 'C_2,3,3', 'C_2,4,3']\n"
     ]
    }
   ],
   "source": [
    "N = 3\n",
    "alphabet, sequence = create_alphabet_and_sequence(N)\n",
    "print(alphabet)"
   ],
   "metadata": {
    "collapsed": false,
    "ExecuteTime": {
     "end_time": "2024-12-17T10:41:59.221817800Z",
     "start_time": "2024-12-17T10:41:59.185803100Z"
    }
   },
   "id": "aaf446a47dd89c19"
  },
  {
   "cell_type": "markdown",
   "source": [
    "Wygląda jak najbardziej poprawnie, identycznie jak alfabet utworzony powyżej.  \n",
    "\n",
    "### Relacja zależności czynności\n",
    "Czynności w algorytmie Gaussa są wykonywane w ustalonej kolejności. Nie jest jednak wymagane, aby w jednym momencie wykonywała się tylko jedna operacja, ponieważ niektóre z nich mogą być wykonywane jednocześnie.  \n",
    "\n",
    "Wnioskując z przedstawionego powyżej pseudokodu i znając zasady działania algorytmu, można uznać, że jest ścisły związek między czynnościami $B$ i $C$, co jest wyjaśnione wyżej, a więc te operacje muszą być wykonywane sekwencyjne, jedna po drugiej (to znaczy dla każdego $B_{i,j,k}$ po niej musi być wykonana czynność $C_{i,j,k}$). Można jednak obliczać mnożniki symultanicznie (czyli działanie drugiej pętli), a także wykonywać czynności wykonywane w trzeciej pętli jednocześnie (czyli wykonywać na raz obliczenia dla zmiennej tej pętli). Ponadto jest też ścisły związek między czynnościami $A$ i $B$, ponieważ zanim obliczane są różnice, trzeba obliczyć mnożnik - czyli dla każdego $B_{i,j,k}$ wcześniej musi się wykonać $A_{i,k}$.  \n",
    "Co ciekawe, występuje również zależność między czynnościami ze zbioru $A$ a czynnościami ze zbioru $C$, ale interesuje nas tylko wartość w $i+1$-wszej kolumnie macierzy, zatem połączenie będzie tylko między czynnościami $A_{i,k}$, w których wartość $i$ zgadza się z wartością $j$ czynności $C_{i,j,k}$.  \n",
    "Występują jeszcze relacje z $C$ do $B$ i z $C$ do $C$. Pierwsza z nich łączy po prostu operację $C_{i,j,k}$ z następną operacją $B_{i+1,j,k+1}$. Druga natomiast łączy czynności $C$ między sobą - z $C_{i,j,k}$ do $C_{i+1,j,k}$.  \n",
    "\n",
    "Czynności muszą być zatem wykonywane w kolejności $A$, $B$, $C$, ale można uwzględnić powyższe wnioski.  \n",
    "Relacja zależności będzie składała się z pięciu zbiorów - zbioru relacji czynności $A$ i $B$, zbioru relacji czynności $B$ i $C$, zbioru relacji $C$ i $A$ i dwóch ostatnich zbiorów - z $C$ do $B$ i z $C$ do $C$. Rozbijmy ją zatem na pięć takich zbiorów:  \n",
    "1. Zbiór relacji czynności $A$ i $B$:  \n",
    "$$\n",
    "D_1 = sym\\left\\{(A_{i,k}, B_{i,j,k}) \\mid A_{i,k} \\in \\Sigma \\land B_{i,j,k} \\in \\Sigma \\right\\}  \n",
    "$$\n",
    "Dla przykładu macierzy $3 \\times 3$ będzie ona wyglądała tak:  \n",
    "$$\n",
    "D_1 = sym\\left\\{\n",
    "\\begin{aligned}\n",
    "(A_{1,2}, B_{1,1,2}), (A_{1,2}, B_{1,2,2}), (A_{1,2}, B_{1,3,2}), (A_{1,2}, B_{1,4,2}), \\\\\n",
    "(A_{1,3}, B_{1,1,3}), (A_{1,3}, B_{1,2,3}), (A_{1,3}, B_{1,3,3}), (A_{1,3}, B_{1,4,3}), \\\\\n",
    "(A_{2,3}, B_{2,2,3}), (A_{2,3}, B_{2,3,3}), (A_{2,3}, B_{2,4,3})\n",
    "\\end{aligned}\n",
    "\\right\\}\n",
    "$$\n",
    "2. Zbiór relacji czynności $B$ i $C$:  \n",
    "$$\n",
    "D_2 = sym\\left\\{(B_{i,j,k}, C_{i,j,k}) \\mid B_{i,j,k} \\in \\Sigma \\land C_{i,j,k} \\in \\Sigma \\right\\}  \n",
    "$$\n",
    "Dla przykładu rozważanego wcześniej będzie ona wyglądała tak:  \n",
    "$$\n",
    "D_2 = sym\\left\\{\n",
    "\\begin{aligned}\n",
    "(B_{1,1,2}, C_{1,1,2}), (B_{1,2,2}, C_{1,2,2}), (B_{1,3,2}, C_{1,3,2}), (B_{1,4,2}, C_{1,4,2}), \\\\\n",
    "(B_{1,1,3}, C_{1,1,3}), (B_{1,2,3}, C_{1,2,3}), (B_{1,3,3}, C_{1,3,3}), (B_{1,4,3}, C_{1,4,3}), \\\\\n",
    "(B_{2,2,3}, C_{2,2,3}), (B_{2,3,3}, C_{2,3,3}), (B_{2,4,3}, C_{2,4,3})\n",
    "\\end{aligned}\n",
    "\\right\\}\n",
    "$$\n",
    "3. Zbiór relacji czynności $C$ i $A$:  \n",
    "$$\n",
    "D_3 = sym\\left\\{(C_{i,j,k_1}, A_{j,k_2}) \\mid j=i+1 \\land C_{i,j,k_1} \\in \\Sigma \\land A_{j,k_2} \\in \\Sigma \\right\\}\n",
    "$$\n",
    "Dla prezentowanego przykładu będzie ona wyglądała następująco:  \n",
    "$$\n",
    "D_3 = sym\\left\\{\n",
    "\\begin{aligned}\n",
    "(C_{1,2,2}, A_{2,3}), (C_{1,2,3}, A_{2,3})\n",
    "\\end{aligned}\n",
    "\\right\\}\n",
    "$$\n",
    "4. Zbiór relacji czynności z $C$ do $B$:  \n",
    "$$\n",
    "D_4 = sym\\left\\{(C_{i,j,k}, B_{i+1,j,k+1}) \\mid C_{i,j,k} \\in \\Sigma \\land B_{i+1,j,k+1} \\in \\Sigma \\right\\}\n",
    "$$\n",
    "Dla przykładu:  \n",
    "$$\n",
    "D_4 = sym\\left\\{\n",
    "\\begin{aligned}\n",
    "(C_{1,2,2}, B_{2,2,3}), (C_{1,3,2}, B_{2,3,3}), (C_{1,4,2}, B_{2,4,3})\n",
    "\\end{aligned}\n",
    "\\right\\}\n",
    "$$\n",
    "5. Zbiór relacji czynności z $C$ do $C$: \n",
    "$$\n",
    "D_5 = sym\\left\\{(C_{i_1,j,k}, C_{i_2,j,k}) \\mid i_1 \\lt i_2 \\land C_{i_1,j,k} \\in \\Sigma \\land C_{i_2,j,k} \\in \\Sigma \\right\\}\n",
    "$$\n",
    "Dla przykładu będzie to wyglądało tak:  \n",
    "$$\n",
    "D_5 = sym\\left\\{\n",
    "\\begin{aligned}\n",
    "(C_{1,2,3}, C_{2,2,3}), (C_{1,3,3}, C_{2,3,3}), (C_{1,4,3}, C_{2,4,3})\n",
    "\\end{aligned}\n",
    "\\right\\}\n",
    "$$\n",
    "Zbiór relacji $D$ będzie sumą wszystkich powyższych relacji oraz relacji identycznościowej $I_\\Sigma$:  \n",
    "$$\n",
    "D = \\left\\{D_1 \\cup D_2 \\cup D_3 \\cup D_4 \\cup D_5 \\right\\}^+ \\cup I_\\Sigma\n",
    "$$\n",
    "\n",
    "Przejrzysta funkcja dodająca po kolei wszystkie zbiory relacji może wyglądać tak:  "
   ],
   "metadata": {
    "collapsed": false
   },
   "id": "7d2feb5c55b28028"
  },
  {
   "cell_type": "code",
   "execution_count": 12,
   "outputs": [],
   "source": [
    "def create_dependent_relations(N: int, alphabet: list[str]) -> list[tuple[str, str]]:\n",
    "    dep_relations = []\n",
    "    # D1 relations\n",
    "    for i in range(1, N+1):\n",
    "        for k in range(1, N+1):\n",
    "            for j in range(1, N+2):\n",
    "                if f'A_{i},{k}' in alphabet and f'B_{i},{j},{k}' in alphabet:\n",
    "                    dep_relations.append((f'A_{i},{k}', f'B_{i},{j},{k}'))\n",
    "    # D2 relations\n",
    "    for i in range(1, N+1):\n",
    "        for k in range(1, N+1):\n",
    "            for j in range(1, N+2):\n",
    "                if f'B_{i},{j},{k}' in alphabet and f'C_{i},{j},{k}' in alphabet:\n",
    "                    dep_relations.append((f'B_{i},{j},{k}', f'C_{i},{j},{k}'))\n",
    "    # D3 relations\n",
    "    for i in range(1, N+1):\n",
    "        for k in range(1, N+1):\n",
    "            for j in range(1, N+2):\n",
    "                for l in range(1, N+1):\n",
    "                    if j == i+1 and f'C_{i},{j},{l}' in alphabet and f'A_{j},{k}' in alphabet:\n",
    "                        dep_relations.append((f'C_{i},{j},{l}', f'A_{j},{k}'))\n",
    "    # D4 relations\n",
    "    for i in range(1, N+1):\n",
    "        for k in range(1, N+1):\n",
    "            for j in range(1, N+2):\n",
    "                if f'C_{i},{j},{k}' in alphabet and f'B_{i+1},{j},{k+1}' in alphabet:\n",
    "                    dep_relations.append((f'C_{i},{j},{k}', f'B_{i+1},{j},{k+1}'))\n",
    "    # D5 relations\n",
    "    for i in range(1, N+1):\n",
    "        for k in range(1, N+1):\n",
    "            for j in range(1, N+2):\n",
    "                for l in range(i+1, N+1):\n",
    "                    if f'C_{i},{j},{k}' in alphabet and f'C_{l},{j},{k}' in alphabet:\n",
    "                        dep_relations.append((f'C_{i},{j},{k}', f'C_{l},{j},{k}'))\n",
    "    return dep_relations\n",
    "# end def"
   ],
   "metadata": {
    "collapsed": false,
    "ExecuteTime": {
     "end_time": "2024-12-17T10:42:00.521409300Z",
     "start_time": "2024-12-17T10:42:00.481410700Z"
    }
   },
   "id": "cb823161037703fc"
  },
  {
   "cell_type": "markdown",
   "source": [
    "Dla każdej relacji, dla bezpieczeństwa i zachowania poprawności, funkcja sprawdza, czy dana czynność należy do zbioru. Zobaczmy, czy tutaj także zbiór relacji będzie odpowiadał temu wyprowadzonemu:  "
   ],
   "metadata": {
    "collapsed": false
   },
   "id": "71513d4b7265e2c8"
  },
  {
   "cell_type": "code",
   "execution_count": 13,
   "outputs": [
    {
     "name": "stdout",
     "output_type": "stream",
     "text": [
      "[('A_1,2', 'B_1,1,2'), ('A_1,2', 'B_1,2,2'), ('A_1,2', 'B_1,3,2'), ('A_1,2', 'B_1,4,2'), ('A_1,3', 'B_1,1,3'), ('A_1,3', 'B_1,2,3'), ('A_1,3', 'B_1,3,3'), ('A_1,3', 'B_1,4,3'), ('A_2,3', 'B_2,2,3'), ('A_2,3', 'B_2,3,3'), ('A_2,3', 'B_2,4,3'), ('B_1,1,2', 'C_1,1,2'), ('B_1,2,2', 'C_1,2,2'), ('B_1,3,2', 'C_1,3,2'), ('B_1,4,2', 'C_1,4,2'), ('B_1,1,3', 'C_1,1,3'), ('B_1,2,3', 'C_1,2,3'), ('B_1,3,3', 'C_1,3,3'), ('B_1,4,3', 'C_1,4,3'), ('B_2,2,3', 'C_2,2,3'), ('B_2,3,3', 'C_2,3,3'), ('B_2,4,3', 'C_2,4,3'), ('C_1,2,2', 'A_2,3'), ('C_1,2,3', 'A_2,3'), ('C_1,2,2', 'B_2,2,3'), ('C_1,3,2', 'B_2,3,3'), ('C_1,4,2', 'B_2,4,3'), ('C_1,2,3', 'C_2,2,3'), ('C_1,3,3', 'C_2,3,3'), ('C_1,4,3', 'C_2,4,3')]\n"
     ]
    }
   ],
   "source": [
    "dep_relations = create_dependent_relations(N, alphabet)\n",
    "print(dep_relations)"
   ],
   "metadata": {
    "collapsed": false,
    "ExecuteTime": {
     "end_time": "2024-12-17T10:42:01.720306100Z",
     "start_time": "2024-12-17T10:42:01.693059900Z"
    }
   },
   "id": "ad52e196d7aed074"
  },
  {
   "cell_type": "markdown",
   "source": [
    "Wygląda poprawnie, a zatem możemy przejść dalej.  \n",
    "\n",
    "### Uogólniona zasada działania algorytmu\n",
    "Na początku zobaczyliśmy, jak algorytm będzie działał dla macierzy o wymiarach $3 \\times 3$. Można jednak uogólnić zasadę jego działania i wyprowadzić taką sekwencję dla macierzy $N$ x $N$. Zrobimy to, korzystając z przykładu i pseudokodu.  \n",
    "Wiemy, że po każdej czynności $A_{i,k}$ będzie występowało ileś par ze zbiorów czynności $B$ i $C$. Z każdą kolejną wartością $i$ będzie ich o jedną mniej. Można zatem zapisać, że po każdym $A_{i,k}$ występuje taki ciąg par operacji $B_{i,j,k}$ i $C_{i,j,k}$:  \n",
    "$$\n",
    "B_{i,j,k}, C_{i,j,k}, B_{i,j+1,k}, C_{i,j+1,k}, B_{i,j+2,k}, C_{i,j+2,k}, \\ldots, B_{i,N+1,k}, C_{i,N+1,k}, \n",
    "$$\n",
    "Oznaczmy taki ciąg jako $BC_{i,k}$.  \n",
    "Czynności $A_{j,k}$ jest, jak wiadomo, dokładnie $N$. Można zatem zapisać, że cała sekwencja kroków algorytmu wygląda następująco:  \n",
    "$$\n",
    "A_{1,1}, BC_{1,1}, A_{1,2}, BC_{1,2}, \\ldots, A_{1,N}, BC_{1,N}, A_{2,2}, BC_{2,2}, \\ldots\\ A_{N,N}, BC_{N,N}\n",
    "$$\n",
    "\n",
    "Tutaj właśnie przyda się zmienna `sequence` utworzona podczas tworzenia alfabetu. Jeszcze raz zobaczmy jakie kroki będzie wykonywał algorytm dla macierzy o wymiarach $3 \\times 3$:  "
   ],
   "metadata": {
    "collapsed": false
   },
   "id": "e764818448a9d66c"
  },
  {
   "cell_type": "code",
   "execution_count": 14,
   "outputs": [
    {
     "name": "stdout",
     "output_type": "stream",
     "text": [
      "A_1,2; B_1,1,2; C_1,1,2; B_1,2,2; C_1,2,2; B_1,3,2; C_1,3,2; B_1,4,2; C_1,4,2; A_1,3; B_1,1,3; C_1,1,3; B_1,2,3; C_1,2,3; B_1,3,3; C_1,3,3; B_1,4,3; C_1,4,3; A_2,3; B_2,2,3; C_2,2,3; B_2,3,3; C_2,3,3; B_2,4,3; C_2,4,3\n"
     ]
    }
   ],
   "source": [
    "print(*sequence, sep=\"; \")"
   ],
   "metadata": {
    "collapsed": false,
    "ExecuteTime": {
     "end_time": "2024-12-17T10:42:02.646994300Z",
     "start_time": "2024-12-17T10:42:02.601431200Z"
    }
   },
   "id": "643130e48177f00"
  },
  {
   "cell_type": "markdown",
   "source": [
    "### Tworzenie grafu Diekert'a  \n",
    "Problem uwspółbieżnienia algorytmu Gaussa można zaprezentować na grafie Diekert'a. Służy on do wnioskowania, które operacje można wykonywać jednocześnie, a które wymagają poczekania, aż inne czynności się wykonają.  \n",
    "W tym celu użyjemy utworzonej wyżej sekwencji kroków i zbioru relacji zależności. Skorzystamy również z funkcji utworzonych w poprzednim sprawozdaniu, które utworzą wspomniany graf:  "
   ],
   "metadata": {
    "collapsed": false
   },
   "id": "bfae11302cec2161"
  },
  {
   "cell_type": "code",
   "execution_count": 15,
   "outputs": [],
   "source": [
    "import graphviz\n",
    "\n",
    "def create_word_graph(dependent_relations: list[tuple[str, str]], word: list[str]) -> list[list[int]]:\n",
    "    \"\"\"\n",
    "    Creates word graph with all edges.\n",
    "    :param dependent_relations: Dependent relations between all chars.\n",
    "    :param word: Word witch graph will be returned.\n",
    "    :return: Graph of specified word with all edges, where numbers accord to index of character in word.\n",
    "    \"\"\"\n",
    "    graph = [[] for _ in range(len(word))]\n",
    "    for i in range(len(word)):\n",
    "        curr_char = word[i]\n",
    "        for j in range(i+1, len(word)):\n",
    "            next_char = word[j]\n",
    "            if (curr_char, next_char) in dependent_relations:\n",
    "                graph[i].append(j)\n",
    "    return graph\n",
    "# end def\n",
    "\n",
    "\n",
    "def create_final_graph(graph: list[list[int]]) -> list[list[int]]:\n",
    "    \"\"\"\n",
    "    For specified word's graph creates its equivalent version without redundant edges.\n",
    "    :param graph: Word's graph.\n",
    "    :return: Graph without redundant edges.\n",
    "    \"\"\"\n",
    "    edges = []\n",
    "    for v in range(len(graph)):\n",
    "        for u in graph[v]:\n",
    "            edges.append((v, u))\n",
    "    # print(edges)\n",
    "\n",
    "    removed = 0\n",
    "    edges_copy = deepcopy(edges)\n",
    "    i = 0\n",
    "    while i < len(edges_copy):\n",
    "        right_vertex = edges_copy[i][1]\n",
    "        j = 0\n",
    "        while j < len(edges_copy):\n",
    "            left_vertex = edges_copy[j][0]\n",
    "            if right_vertex == left_vertex:\n",
    "                new_edge = (edges_copy[i][0], edges_copy[j][1])\n",
    "                edges_copy.append(new_edge)\n",
    "                if edges_copy.count(new_edge) > 1:\n",
    "                    if new_edge in edges:\n",
    "                        edges.remove(new_edge)\n",
    "                        removed += 1\n",
    "            j += 1\n",
    "        i += 1\n",
    "    final_graph = [[] for _ in range(len(graph))]\n",
    "    for edge in edges:\n",
    "        final_graph[edge[0]].append(edge[1])\n",
    "    return final_graph\n",
    "# end def\n"
   ],
   "metadata": {
    "collapsed": false,
    "ExecuteTime": {
     "end_time": "2024-12-17T10:42:03.944616800Z",
     "start_time": "2024-12-17T10:42:03.797900400Z"
    }
   },
   "id": "6df15c5d5ac8bd2d"
  },
  {
   "cell_type": "markdown",
   "source": [
    "Po wywołaniu tych funkcji dla macierzy o wymiarach $3 \\times 3$:  "
   ],
   "metadata": {
    "collapsed": false
   },
   "id": "5714b5341f81a0e9"
  },
  {
   "cell_type": "code",
   "execution_count": 16,
   "outputs": [
    {
     "name": "stdout",
     "output_type": "stream",
     "text": [
      "[[1, 3, 5, 7], [2], [], [4], [18], [6], [21], [8], [23], [10, 12, 14, 16], [11], [], [13], [18], [15], [22], [17], [24], [19, 21, 23], [20], [], [22], [], [24], []]\n"
     ]
    }
   ],
   "source": [
    "graph = create_word_graph(dep_relations, sequence)\n",
    "final_graph = create_final_graph(graph)\n",
    "print(final_graph)"
   ],
   "metadata": {
    "collapsed": false,
    "ExecuteTime": {
     "end_time": "2024-12-17T10:42:05.229378400Z",
     "start_time": "2024-12-17T10:42:05.206815900Z"
    }
   },
   "id": "766777c94a854a6a"
  },
  {
   "cell_type": "markdown",
   "source": [
    "Zanim wyświetlimy graf, stwórzmy jeszcze postać normalną foaty, aby móc kolorować każdy kolejny poziom czynności.\n",
    "\n",
    "### Przekształcanie sekwencji czynności do postaci normalnej foaty (FNF)  \n",
    "Tutaj również skorzystamy z funkcji napisanej w poprzednim sprawozdaniu, mianowicie `create_FNF`:  "
   ],
   "metadata": {
    "collapsed": false
   },
   "id": "72252e37fe83a20d"
  },
  {
   "cell_type": "code",
   "execution_count": 17,
   "outputs": [],
   "source": [
    "def create_FNF(final_graph: list[list[int]], word: list[str]) -> tuple[str, list[set]]:\n",
    "    \"\"\"\n",
    "    Creates FNF of word.\n",
    "    :param final_graph: Final version of word's graph.\n",
    "    :param word: Specified word.\n",
    "    :return: FNF of word.\n",
    "    \"\"\"\n",
    "\n",
    "    foat_list = [set() for _ in range(len(word))]\n",
    "    visited_vertices = [False for _ in range(len(word))]\n",
    "\n",
    "    # Creating list of vertices that can be obtained in next step of operations.\n",
    "    # Recursive function helps in identifying step in which variable will be called.\n",
    "    def next_char(char_ind: int, depth: int):\n",
    "        visited_vertices[char_ind] = True\n",
    "        foat_list[depth].add(char_ind)\n",
    "        for char in final_graph[char_ind]:\n",
    "            next_char(char, depth + 1)\n",
    "    # end def\n",
    "\n",
    "    # Some vertices might not be available when starting in first vertex,\n",
    "    # so we have to start recursive function in them also.\n",
    "    while False in visited_vertices:\n",
    "        next_char(visited_vertices.index(False), 0)\n",
    "\n",
    "    # Now the normal foat form can be finally created.\n",
    "    # The algorithm go from the back of foat_list, so from the deepest parts of graph,\n",
    "    # and adds each sign to the front side of foat, if it was not used before,\n",
    "    # because sometimes the same sign can occur in few levels of foat_list.\n",
    "    # This is because there may be few ways to go to each sign, but we are interested only in the longest one.\n",
    "    foat = ''\n",
    "    already_used = []\n",
    "    for i in range(len(word)-1, -1, -1):\n",
    "        level = foat_list[i]\n",
    "        is_it_first = True\n",
    "        for number in level:\n",
    "            if number not in already_used:\n",
    "                already_used.append(number)\n",
    "                if is_it_first:\n",
    "                    foat = word[number] + ')' + foat\n",
    "                    is_it_first = False\n",
    "                else:\n",
    "                    foat = word[number] + '; ' + foat\n",
    "        if not is_it_first:\n",
    "            foat = '(' + foat\n",
    "    return foat, foat_list\n",
    "# end def"
   ],
   "metadata": {
    "collapsed": false,
    "ExecuteTime": {
     "end_time": "2024-12-17T10:42:06.888133500Z",
     "start_time": "2024-12-17T10:42:06.861141500Z"
    }
   },
   "id": "a7e8e5fc286ed38"
  },
  {
   "cell_type": "markdown",
   "source": [
    "Parametrem `word` w tym przypadku jest sekwencja czynności `sequence`, a funkcja zwraca dodatkowo foatę w postaci listy, aby można było ją wykorzystać podczas kolorowania grafu. W tym celu można stworzyć funkcję, która zapisze, na którym poziomie są dane wierzchołki. Tą funkcją będzie funkcja `provide_levels`:  "
   ],
   "metadata": {
    "collapsed": false
   },
   "id": "c3e4bf78f671043b"
  },
  {
   "cell_type": "code",
   "execution_count": 18,
   "outputs": [],
   "source": [
    "def provide_levels(foat_list: list[set]) -> list[int]:\n",
    "    max_no_elements = 0\n",
    "    for level in foat_list:\n",
    "        max_no_elements += len(level)\n",
    "    nodes_levels = [-1 for _ in range(max_no_elements)]\n",
    "    for i, level in enumerate(foat_list):\n",
    "        for el in level:\n",
    "            nodes_levels[el] = i\n",
    "    return nodes_levels\n",
    "# end def"
   ],
   "metadata": {
    "collapsed": false,
    "ExecuteTime": {
     "end_time": "2024-12-17T10:42:07.835897800Z",
     "start_time": "2024-12-17T10:42:07.829659700Z"
    }
   },
   "id": "3889c2da09125c99"
  },
  {
   "cell_type": "markdown",
   "source": [
    "Funkcja kolorująca będzie teraz wyglądała tak (przy okazji będzie od razu przeskalowywać obraz):"
   ],
   "metadata": {
    "collapsed": false
   },
   "id": "b6210f46e094bd"
  },
  {
   "cell_type": "code",
   "execution_count": 19,
   "outputs": [],
   "source": [
    "def draw_final_graph(final_graph: list[list[int]], word: list[str], levels: list[int], filename: str):\n",
    "    \"\"\"\n",
    "    Creates .png file presenting final word's graph in Examples/ directory.\n",
    "    :param final_graph: Final version of word's graph.\n",
    "    :param word: Specified word.\n",
    "    :param filename: Name of the file, where .png file should be placed\n",
    "    :return:\n",
    "    \"\"\"\n",
    "    colors = ['yellow', 'orange', 'red', 'purple', 'blue', 'green']\n",
    "    view = graphviz.Digraph(name=f'Examples/{filename}', format='png')\n",
    "    view.attr(size='9,6')\n",
    "    for v in range(len(final_graph)):\n",
    "        for u in final_graph[v]:\n",
    "            view.edge(str(v), str(u))\n",
    "        label = word[v].replace('_', '<SUB>') + '</SUB>'\n",
    "        view.node(str(v), label=f'<{label}>', style='filled', fillcolor=colors[levels[v] % 6])\n",
    "    view.render(view=True)\n",
    "# end def"
   ],
   "metadata": {
    "collapsed": false,
    "ExecuteTime": {
     "end_time": "2024-12-17T10:42:09.029377100Z",
     "start_time": "2024-12-17T10:42:09.008109200Z"
    }
   },
   "id": "982ebbbddb290f75"
  },
  {
   "cell_type": "markdown",
   "source": [
    "Wywołajmy zatem powyższe funkcje dla testowanego przypadku macierzy $3 \\times 3$:  "
   ],
   "metadata": {
    "collapsed": false
   },
   "id": "d9c2a3bd1dbbd482"
  },
  {
   "cell_type": "code",
   "execution_count": 20,
   "outputs": [
    {
     "name": "stdout",
     "output_type": "stream",
     "text": [
      "(A_1,3; A_1,2)(B_1,4,3; B_1,3,3; B_1,2,3; B_1,1,3; B_1,4,2; B_1,3,2; B_1,2,2; B_1,1,2)(C_1,4,3; C_1,3,3; C_1,2,3; C_1,1,3; C_1,4,2; C_1,3,2; C_1,2,2; C_1,1,2)(A_2,3)(B_2,4,3; B_2,3,3; B_2,2,3)(C_2,3,3; C_2,2,3; C_2,4,3)\n"
     ]
    }
   ],
   "source": [
    "fnf, foat_list = create_FNF(final_graph, sequence)\n",
    "draw_final_graph(final_graph, sequence, provide_levels(foat_list), f'{N}x{N}')\n",
    "print(fnf)"
   ],
   "metadata": {
    "collapsed": false,
    "ExecuteTime": {
     "end_time": "2024-12-17T10:42:12.424817900Z",
     "start_time": "2024-12-17T10:42:10.553030300Z"
    }
   },
   "id": "47a5714fecca8b25"
  },
  {
   "cell_type": "markdown",
   "source": [
    "Graf dla macierzy $3 \\times 3$ wygląda tak:  \n",
    "\n",
    "![Graf dla macierzy 3x3](Examples/3x3.gv.png)\n",
    "\n",
    "Każdy kolejny kolor (od góry) oznacza czynności, które mogą być wykonane jednocześnie. W przypadku większych macierzy kolory będą się zapętlały, bo tablica kolorów ma tylko sześć wartości, więc nie wszystkie czynności jednego koloru będą oznaczały jeden poziom. Różne poziomy tego samego koloru będą jednak wyraźnie oddzielone (pomiędzy nimi jest pięć innych kolorów). Na przykład dla macierzy $4 \\times 4$ graf będzie wyglądał tak:  \n",
    "\n",
    "![Graf dla macierzy 4x4](Examples/4x4.gv.png)  \n",
    "\n",
    "Dla ułatwienia można złączyć wszystkie powyższe funkcje w jedną, przyjmującą tylko rozmiar macierzy i zwracającą alfabet, sekwencję czynności, relacje zależności i postać normalną foaty. Będzie ona wyglądała tak:  "
   ],
   "metadata": {
    "collapsed": false
   },
   "id": "b2f68d62212c173"
  },
  {
   "cell_type": "code",
   "execution_count": 21,
   "outputs": [],
   "source": [
    "def graph_and_FNF(N: int):\n",
    "    if N < 2:\n",
    "        print(\"Too small matrix!\")\n",
    "        return None, None, None\n",
    "    alphabet, sequence = create_alphabet_and_sequence(N)\n",
    "    dep_relations = create_dependent_relations(N, alphabet)\n",
    "    graph = create_word_graph(dep_relations, sequence)\n",
    "    final_graph = create_final_graph(graph)\n",
    "    fnf, foat_list = create_FNF(final_graph, sequence)\n",
    "    levels = provide_levels(foat_list)\n",
    "    draw_final_graph(final_graph, sequence, levels, f'{N}x{N}')\n",
    "    return alphabet, sequence, dep_relations, fnf\n",
    "# end def"
   ],
   "metadata": {
    "collapsed": false,
    "ExecuteTime": {
     "end_time": "2024-12-17T10:42:17.866253400Z",
     "start_time": "2024-12-17T10:42:17.792374200Z"
    }
   },
   "id": "6ecd9d739b1c30b4"
  },
  {
   "cell_type": "markdown",
   "source": [
    "Wywołajmy zatem całą funkcję dla macierzy $4 \\times 4$:  "
   ],
   "metadata": {
    "collapsed": false
   },
   "id": "61269c76db97946c"
  },
  {
   "cell_type": "code",
   "execution_count": 22,
   "outputs": [
    {
     "name": "stdout",
     "output_type": "stream",
     "text": [
      "['A_1,2', 'A_1,3', 'A_1,4', 'A_2,3', 'A_2,4', 'A_3,4', 'B_1,1,2', 'B_1,1,3', 'B_1,1,4', 'B_1,2,2', 'B_1,2,3', 'B_1,2,4', 'B_1,3,2', 'B_1,3,3', 'B_1,3,4', 'B_1,4,2', 'B_1,4,3', 'B_1,4,4', 'B_1,5,2', 'B_1,5,3', 'B_1,5,4', 'B_2,2,3', 'B_2,2,4', 'B_2,3,3', 'B_2,3,4', 'B_2,4,3', 'B_2,4,4', 'B_2,5,3', 'B_2,5,4', 'B_3,3,4', 'B_3,4,4', 'B_3,5,4', 'C_1,1,2', 'C_1,1,3', 'C_1,1,4', 'C_1,2,2', 'C_1,2,3', 'C_1,2,4', 'C_1,3,2', 'C_1,3,3', 'C_1,3,4', 'C_1,4,2', 'C_1,4,3', 'C_1,4,4', 'C_1,5,2', 'C_1,5,3', 'C_1,5,4', 'C_2,2,3', 'C_2,2,4', 'C_2,3,3', 'C_2,3,4', 'C_2,4,3', 'C_2,4,4', 'C_2,5,3', 'C_2,5,4', 'C_3,3,4', 'C_3,4,4', 'C_3,5,4']\n",
      "['A_1,2', 'B_1,1,2', 'C_1,1,2', 'B_1,2,2', 'C_1,2,2', 'B_1,3,2', 'C_1,3,2', 'B_1,4,2', 'C_1,4,2', 'B_1,5,2', 'C_1,5,2', 'A_1,3', 'B_1,1,3', 'C_1,1,3', 'B_1,2,3', 'C_1,2,3', 'B_1,3,3', 'C_1,3,3', 'B_1,4,3', 'C_1,4,3', 'B_1,5,3', 'C_1,5,3', 'A_1,4', 'B_1,1,4', 'C_1,1,4', 'B_1,2,4', 'C_1,2,4', 'B_1,3,4', 'C_1,3,4', 'B_1,4,4', 'C_1,4,4', 'B_1,5,4', 'C_1,5,4', 'A_2,3', 'B_2,2,3', 'C_2,2,3', 'B_2,3,3', 'C_2,3,3', 'B_2,4,3', 'C_2,4,3', 'B_2,5,3', 'C_2,5,3', 'A_2,4', 'B_2,2,4', 'C_2,2,4', 'B_2,3,4', 'C_2,3,4', 'B_2,4,4', 'C_2,4,4', 'B_2,5,4', 'C_2,5,4', 'A_3,4', 'B_3,3,4', 'C_3,3,4', 'B_3,4,4', 'C_3,4,4', 'B_3,5,4', 'C_3,5,4']\n",
      "[('A_1,2', 'B_1,1,2'), ('A_1,2', 'B_1,2,2'), ('A_1,2', 'B_1,3,2'), ('A_1,2', 'B_1,4,2'), ('A_1,2', 'B_1,5,2'), ('A_1,3', 'B_1,1,3'), ('A_1,3', 'B_1,2,3'), ('A_1,3', 'B_1,3,3'), ('A_1,3', 'B_1,4,3'), ('A_1,3', 'B_1,5,3'), ('A_1,4', 'B_1,1,4'), ('A_1,4', 'B_1,2,4'), ('A_1,4', 'B_1,3,4'), ('A_1,4', 'B_1,4,4'), ('A_1,4', 'B_1,5,4'), ('A_2,3', 'B_2,2,3'), ('A_2,3', 'B_2,3,3'), ('A_2,3', 'B_2,4,3'), ('A_2,3', 'B_2,5,3'), ('A_2,4', 'B_2,2,4'), ('A_2,4', 'B_2,3,4'), ('A_2,4', 'B_2,4,4'), ('A_2,4', 'B_2,5,4'), ('A_3,4', 'B_3,3,4'), ('A_3,4', 'B_3,4,4'), ('A_3,4', 'B_3,5,4'), ('B_1,1,2', 'C_1,1,2'), ('B_1,2,2', 'C_1,2,2'), ('B_1,3,2', 'C_1,3,2'), ('B_1,4,2', 'C_1,4,2'), ('B_1,5,2', 'C_1,5,2'), ('B_1,1,3', 'C_1,1,3'), ('B_1,2,3', 'C_1,2,3'), ('B_1,3,3', 'C_1,3,3'), ('B_1,4,3', 'C_1,4,3'), ('B_1,5,3', 'C_1,5,3'), ('B_1,1,4', 'C_1,1,4'), ('B_1,2,4', 'C_1,2,4'), ('B_1,3,4', 'C_1,3,4'), ('B_1,4,4', 'C_1,4,4'), ('B_1,5,4', 'C_1,5,4'), ('B_2,2,3', 'C_2,2,3'), ('B_2,3,3', 'C_2,3,3'), ('B_2,4,3', 'C_2,4,3'), ('B_2,5,3', 'C_2,5,3'), ('B_2,2,4', 'C_2,2,4'), ('B_2,3,4', 'C_2,3,4'), ('B_2,4,4', 'C_2,4,4'), ('B_2,5,4', 'C_2,5,4'), ('B_3,3,4', 'C_3,3,4'), ('B_3,4,4', 'C_3,4,4'), ('B_3,5,4', 'C_3,5,4'), ('C_1,2,2', 'A_2,3'), ('C_1,2,3', 'A_2,3'), ('C_1,2,4', 'A_2,3'), ('C_1,2,2', 'A_2,4'), ('C_1,2,3', 'A_2,4'), ('C_1,2,4', 'A_2,4'), ('C_2,3,3', 'A_3,4'), ('C_2,3,4', 'A_3,4'), ('C_1,2,2', 'B_2,2,3'), ('C_1,3,2', 'B_2,3,3'), ('C_1,4,2', 'B_2,4,3'), ('C_1,5,2', 'B_2,5,3'), ('C_1,2,3', 'B_2,2,4'), ('C_1,3,3', 'B_2,3,4'), ('C_1,4,3', 'B_2,4,4'), ('C_1,5,3', 'B_2,5,4'), ('C_2,3,3', 'B_3,3,4'), ('C_2,4,3', 'B_3,4,4'), ('C_2,5,3', 'B_3,5,4'), ('C_1,2,3', 'C_2,2,3'), ('C_1,3,3', 'C_2,3,3'), ('C_1,4,3', 'C_2,4,3'), ('C_1,5,3', 'C_2,5,3'), ('C_1,2,4', 'C_2,2,4'), ('C_1,3,4', 'C_2,3,4'), ('C_1,3,4', 'C_3,3,4'), ('C_1,4,4', 'C_2,4,4'), ('C_1,4,4', 'C_3,4,4'), ('C_1,5,4', 'C_2,5,4'), ('C_1,5,4', 'C_3,5,4'), ('C_2,3,4', 'C_3,3,4'), ('C_2,4,4', 'C_3,4,4'), ('C_2,5,4', 'C_3,5,4')]\n",
      "(A_1,4; A_1,3; A_1,2)(B_1,5,4; B_1,4,4; B_1,3,4; B_1,2,4; B_1,1,4; B_1,5,3; B_1,4,3; B_1,3,3; B_1,2,3; B_1,1,3; B_1,5,2; B_1,4,2; B_1,3,2; B_1,2,2; B_1,1,2)(C_1,4,4; C_1,3,4; C_1,2,4; C_1,1,4; C_1,5,3; C_1,4,3; C_1,3,3; C_1,2,3; C_1,1,3; C_1,5,2; C_1,4,2; C_1,3,2; C_1,2,2; C_1,1,2; C_1,5,4)(A_2,4; A_2,3)(B_2,5,4; B_2,4,4; B_2,3,4; B_2,2,4; B_2,5,3; B_2,4,3; B_2,3,3; B_2,2,3)(C_2,5,4; C_2,4,4; C_2,3,4; C_2,2,4; C_2,5,3; C_2,4,3; C_2,3,3; C_2,2,3)(A_3,4)(B_3,5,4; B_3,4,4; B_3,3,4)(C_3,4,4; C_3,3,4; C_3,5,4)\n"
     ]
    }
   ],
   "source": [
    "alphabet, sequence, dep_relations, fnf = graph_and_FNF(4)\n",
    "print(alphabet)\n",
    "print(sequence)\n",
    "print(dep_relations)\n",
    "print(fnf)"
   ],
   "metadata": {
    "collapsed": false,
    "ExecuteTime": {
     "end_time": "2024-12-17T10:42:22.420908500Z",
     "start_time": "2024-12-17T10:42:20.796067700Z"
    }
   },
   "id": "52b483f648e08573"
  },
  {
   "cell_type": "markdown",
   "source": [
    "Widać, że w tym wypadku jest już znacznie obszerniejszy alfabet, sekwencja czynności jest dłuższa, ale szczególna różnica jest w liczbie relacji zależności. Logicznym jest także, że foata składa się z większej ilości poziomów, a co za tym idzie, graf jest głębszy (widok powyżej).  "
   ],
   "metadata": {
    "collapsed": false
   },
   "id": "9d897738e74654f1"
  },
  {
   "cell_type": "markdown",
   "source": [
    "### Odczytanie wejścia  \n",
    "Wejście reprezentowane jest jako plik `.txt`, w którego pierwszej linii jest liczba $N$ reprezentująca wymiar macierzy, w kolejnych $N$ liniach jest zapisana zawartość macierzy, a w ostatniej linii transponowany wektor $y$. Trzeba jakoś odczytać to wejście i posłuży nam do tego funkcja `get_and_form_data`:  "
   ],
   "metadata": {
    "collapsed": false
   },
   "id": "6aa906ee41a5400"
  },
  {
   "cell_type": "code",
   "execution_count": 23,
   "outputs": [],
   "source": [
    "def get_and_form_data(filename: str) -> tuple[int, list[list[float]], list[list[list[float]]], list[list[float]]]:\n",
    "    file = open(filename, 'r', encoding='utf-8')\n",
    "    lines = file.readlines()\n",
    "    file.close()\n",
    "\n",
    "    N = int(lines[0])\n",
    "    matrix = []\n",
    "    for i in range(1, N+1):\n",
    "        row = lines[i].strip().split(sep=' ')\n",
    "        matrix.append(row)\n",
    "    y = lines[N+1].strip().split(sep=' ')\n",
    "    for i in range(N):\n",
    "        matrix[i].append(y[i])\n",
    "    for i in range(N):\n",
    "        for j in range(N+1):\n",
    "            matrix[i][j] = float(matrix[i][j])\n",
    "    diff = [[[0 for k in range(N)] for j in range(N + 1)] for i in range(N)]\n",
    "    mul = [[0 for k in range(N)] for i in range(N)]\n",
    "    return N, matrix, diff, mul\n",
    "# end def"
   ],
   "metadata": {
    "collapsed": false,
    "ExecuteTime": {
     "end_time": "2024-12-17T10:42:25.823213300Z",
     "start_time": "2024-12-17T10:42:25.816700600Z"
    }
   },
   "id": "6ef3b6ce1e5d2374"
  },
  {
   "cell_type": "markdown",
   "source": [
    "Odczytajmy zatem przykładowy plik, aby uzyskać dane układu równań:  "
   ],
   "metadata": {
    "collapsed": false
   },
   "id": "f4efd97d4bf9cdb6"
  },
  {
   "cell_type": "code",
   "execution_count": 29,
   "outputs": [],
   "source": [
    "N, matrix, diff, mul = get_and_form_data('Examples/in.txt')"
   ],
   "metadata": {
    "collapsed": false,
    "ExecuteTime": {
     "end_time": "2024-12-17T10:43:28.511882900Z",
     "start_time": "2024-12-17T10:43:28.475083600Z"
    }
   },
   "id": "88aab167f513b01a"
  },
  {
   "cell_type": "markdown",
   "source": [
    "### Definicja podstawowych operacji macierzowych  \n",
    "Operacje będą nazywały się analogicznie do czynności, a zatem:  \n",
    "* Funkcja `A` będzie odpowiadała za obliczenie mnożnika - wpisze go do globalnej tablicy mnożników.\n",
    "* Funkcja `B` odpowiadać będzie za obliczenie różnicy do odjęcia - wpisze ją do globalnej tablicy różnic.\n",
    "* Funkcja `C` odejmie obliczoną różnicę od odpowiedniego elementu macierzy.  \n",
    "\n",
    "Wyglądają one tak:  "
   ],
   "metadata": {
    "collapsed": false
   },
   "id": "4eb8272dced1fc3c"
  },
  {
   "cell_type": "code",
   "execution_count": 30,
   "outputs": [],
   "source": [
    "def A(matrix: list[list[float]], i: int, k: int):\n",
    "    mul[k][i] = matrix[k][i] / matrix[i][i]\n",
    "# end def\n",
    "\n",
    "\n",
    "def B(matrix: list[list[float]], i: int, j: int, k: int, multiplier: float):\n",
    "    diff[i][j][k] = matrix[i][j] * multiplier\n",
    "# end def\n",
    "\n",
    "\n",
    "def C(matrix: list[list[float]], i: int, j: int, k: int, value: float):\n",
    "    matrix[k][j] -= value\n",
    "# end def"
   ],
   "metadata": {
    "collapsed": false,
    "ExecuteTime": {
     "end_time": "2024-12-17T10:43:29.455244100Z",
     "start_time": "2024-12-17T10:43:29.424306500Z"
    }
   },
   "id": "56bdd5e7df7c7bf"
  },
  {
   "cell_type": "markdown",
   "source": [
    "### Implementacja schedulera dla nowych klas Foaty  \n",
    "Foata z laboratorium nr 5 zwraca listę zbiorów. Każdy zbiór odpowiada wierzchołkom na danym poziomie, jednak niektóre wierzchołki występują w kilku zbiorach. Trzeba usunąć duplikaty i zostawić te, które są najgłębiej. Posłuży do tego funkcja `reduce_foat_list`:  "
   ],
   "metadata": {
    "collapsed": false
   },
   "id": "71189b3dccb16592"
  },
  {
   "cell_type": "code",
   "execution_count": 31,
   "outputs": [],
   "source": [
    "def reduce_foat_list(foat_list: list[set[int]]):\n",
    "    already_used = []\n",
    "    new_foat = deepcopy(foat_list)\n",
    "    for i in range(len(new_foat) - 1, -1, -1):\n",
    "        level = new_foat[i]\n",
    "        for el in level:\n",
    "            if el in already_used:\n",
    "                foat_list[i].remove(el)\n",
    "            else:\n",
    "                already_used.append(el)"
   ],
   "metadata": {
    "collapsed": false,
    "ExecuteTime": {
     "end_time": "2024-12-17T10:43:30.647038600Z",
     "start_time": "2024-12-17T10:43:30.599054Z"
    }
   },
   "id": "3e0e63d0c638fa67"
  },
  {
   "cell_type": "markdown",
   "source": [
    "Wpisuje ona znalezione już elementy do tablicy `already_used`, a jeżeli dany element wystąpi ponownie, to usuwa go z foaty z tego drugiego miejsca.  \n",
    "Scheduler dla tak powstałych klas foaty może wyglądać następująco:  "
   ],
   "metadata": {
    "collapsed": false
   },
   "id": "f696966cc2f0cb51"
  },
  {
   "cell_type": "code",
   "execution_count": 32,
   "outputs": [],
   "source": [
    "from threading import Thread\n",
    "\n",
    "def multithread(matrix: list[list[float]], foat_list: list[set[int]], seq: list[str], N: int) -> list[list[float]]:\n",
    "    for level in foat_list:\n",
    "        threads = []\n",
    "        for el in level:\n",
    "            action = seq[el]\n",
    "            match action[0]:\n",
    "                case 'A':\n",
    "                    i = int(action[2]) - 1\n",
    "                    k = int(action[4]) - 1\n",
    "                    thread = Thread(target=A, args=(matrix, i, k))\n",
    "                    thread.start()\n",
    "                case 'B':\n",
    "                    i = int(action[2]) - 1\n",
    "                    j = int(action[4]) - 1\n",
    "                    k = int(action[6]) - 1\n",
    "                    thread = Thread(target=B, args=(matrix, i, j, k, mul[k][i]))\n",
    "                    thread.start()\n",
    "                case 'C':\n",
    "                    i = int(action[2]) - 1\n",
    "                    j = int(action[4]) - 1\n",
    "                    k = int(action[6]) - 1\n",
    "                    thread = Thread(target=C, args=(matrix, i, j, k, diff[i][j][k]))\n",
    "                    thread.start()\n",
    "            threads.append(thread)\n",
    "        for thread in threads:\n",
    "            thread.join()\n",
    "    return matrix\n",
    "# end def"
   ],
   "metadata": {
    "collapsed": false,
    "ExecuteTime": {
     "end_time": "2024-12-17T10:43:32.007008900Z",
     "start_time": "2024-12-17T10:43:31.980010200Z"
    }
   },
   "id": "48aac3797d77be44"
  },
  {
   "cell_type": "markdown",
   "source": [
    "Dla każdego poziomu foaty tworzy tyle wątków, ile jest elementów na tym poziomie. Następnie wywołuje te wątki, a na końcu, co najważniejsze, wywołuje `.join()` na wszystkich wątkach po kolei. Program może zatem wykonywać kilka wątków naraz i nie czekać aż któryś się skończy. Macierz po wywołaniu tej funkcji przyjmuje postać trójkątną górą i dla pliku *in.txt* zawierającego takie dane:  \n",
    "3\n",
    "2.0 1.0 3.0\n",
    "4.0 3.0 8.0\n",
    "6.0 5.0 16.0\n",
    "6.0 15.0 27.0,\n",
    "będzie wyglądała tak:  "
   ],
   "metadata": {
    "collapsed": false
   },
   "id": "c4c22c2789a295a0"
  },
  {
   "cell_type": "code",
   "execution_count": 33,
   "outputs": [
    {
     "name": "stdout",
     "output_type": "stream",
     "text": [
      "[2.0, 1.0, 3.0, 6.0]\n",
      "[0.0, 1.0, 2.0, 3.0]\n",
      "[0.0, 0.0, 3.0, 3.0]\n"
     ]
    }
   ],
   "source": [
    "al, seq = create_alphabet_and_sequence(N)\n",
    "final_graph = create_final_graph(\n",
    "    create_word_graph(\n",
    "        create_dependent_relations(\n",
    "            N,\n",
    "            al\n",
    "        ),\n",
    "        seq\n",
    "    )\n",
    ")\n",
    "fnf, foat_list = create_FNF(final_graph, seq)\n",
    "reduce_foat_list(foat_list)\n",
    "\n",
    "matrix = multithread(matrix, foat_list, seq, N)\n",
    "\n",
    "\n",
    "def print_matrix(matrix: list[list[float]]):\n",
    "    for i in range(len(matrix)):\n",
    "        print(matrix[i])\n",
    "print_matrix(matrix)"
   ],
   "metadata": {
    "collapsed": false,
    "ExecuteTime": {
     "end_time": "2024-12-17T10:43:33.999865Z",
     "start_time": "2024-12-17T10:43:33.941848600Z"
    }
   },
   "id": "fa716795ae638cb5"
  },
  {
   "cell_type": "markdown",
   "source": [
    "Widać, że macierz jest postaci trójkątnej górnej, z uwzględnieniem wektora $y$ w ostatniej kolumnie.  \n",
    "\n",
    "### Rozwiązywanie macierzy trójkątnej górnej  \n",
    "Musimy teraz stworzyć funkcję, która obliczy wartości kolejnych $x$-ów i zwróci wynik. Będzie to funkcja `solve_triangular_matrix`:  "
   ],
   "metadata": {
    "collapsed": false
   },
   "id": "a80e44845091f603"
  },
  {
   "cell_type": "code",
   "execution_count": 34,
   "outputs": [],
   "source": [
    "def solve_triangular_matrix(matrix: list[list[float]], N: int) -> list[float]:\n",
    "    x = [float(\"inf\") for _ in range(N)]\n",
    "    for i in range(N-1, -1, -1):\n",
    "        for j in range(N-1, i, -1):\n",
    "            matrix[i][N] -= matrix[i][j] * matrix[j][N]\n",
    "        matrix[i][N] /= matrix[i][i]\n",
    "        x[i] = matrix[i][N]\n",
    "    return x\n",
    "# end def"
   ],
   "metadata": {
    "collapsed": false,
    "ExecuteTime": {
     "end_time": "2024-12-17T10:53:43.178660100Z",
     "start_time": "2024-12-17T10:53:43.109662800Z"
    }
   },
   "id": "330f8757733dd70f"
  },
  {
   "cell_type": "markdown",
   "source": [
    "Rozwiążmy ten układ zatem:  "
   ],
   "metadata": {
    "collapsed": false
   },
   "id": "1242ac2b15fe1c3d"
  },
  {
   "cell_type": "code",
   "execution_count": 35,
   "outputs": [
    {
     "name": "stdout",
     "output_type": "stream",
     "text": [
      "[1.0, 1.0, 1.0]\n"
     ]
    }
   ],
   "source": [
    "x = solve_triangular_matrix(matrix, N)\n",
    "print(x)"
   ],
   "metadata": {
    "collapsed": false,
    "ExecuteTime": {
     "end_time": "2024-12-17T10:54:04.082605400Z",
     "start_time": "2024-12-17T10:54:04.018005600Z"
    }
   },
   "id": "39c9ad88aad17802"
  },
  {
   "cell_type": "markdown",
   "source": [
    "Rozwiązania wyglądają obiecująco i po sprawdzeniu okazuje się, że rzeczywiście są poprawne.  \n",
    "\n",
    "### Przykłady  \n",
    "Rozwiążmy teraz kilka przykładowych układów (niestety ze względu na globalność tablic `diff` i `mul` trzeba te operacje wykonywać od nowa):  \n",
    "1. Układ czterech równań:  \n",
    "4\n",
    "3.0 1.0 -1.0 1.0\n",
    "1.0 5.0 -3.0 0.0\n",
    "1.0 3.0 0.0 -1.0\n",
    "0.0 3.0 2.0 1.0\n",
    "0.0 7.0 1.0 2.0"
   ],
   "metadata": {
    "collapsed": false
   },
   "id": "45f0b154c831cfd7"
  },
  {
   "cell_type": "code",
   "execution_count": 39,
   "outputs": [
    {
     "name": "stdout",
     "output_type": "stream",
     "text": [
      "[-1.0, 0.9999999999999998, -1.0000000000000002, 1.0]\n"
     ]
    }
   ],
   "source": [
    "N, matrix, diff, mul = get_and_form_data('Examples/in_1.txt')\n",
    "al, seq = create_alphabet_and_sequence(N)\n",
    "final_graph = create_final_graph(\n",
    "    create_word_graph(\n",
    "        create_dependent_relations(\n",
    "            N,\n",
    "            al\n",
    "        ),\n",
    "        seq\n",
    "    )\n",
    ")\n",
    "fnf, foat_list = create_FNF(final_graph, seq)\n",
    "reduce_foat_list(foat_list)\n",
    "\n",
    "matrix = multithread(matrix, foat_list, seq, N)\n",
    "x = solve_triangular_matrix(matrix, N)\n",
    "print(x)"
   ],
   "metadata": {
    "collapsed": false,
    "ExecuteTime": {
     "end_time": "2024-12-17T11:04:08.306597900Z",
     "start_time": "2024-12-17T11:04:06.670676100Z"
    }
   },
   "id": "942aa7e186dbd886"
  },
  {
   "cell_type": "markdown",
   "source": [
    "2. Układ czterech równań:  \n",
    "4\n",
    "1.0 1.0 1.0 1.0\n",
    "1.0 -1.0 1.0 1.0\n",
    "1.0 -1.0 -1.0 1.0\n",
    "2.0 1.0 1.0 -1.0\n",
    "2.0 -2.0 -2.0 5.0"
   ],
   "metadata": {
    "collapsed": false
   },
   "id": "635b819929243d1e"
  },
  {
   "cell_type": "code",
   "execution_count": 41,
   "outputs": [
    {
     "name": "stdout",
     "output_type": "stream",
     "text": [
      "[1.0, 2.0, -0.0, -1.0]\n"
     ]
    }
   ],
   "source": [
    "N, matrix, diff, mul = get_and_form_data('Examples/in_2.txt')\n",
    "al, seq = create_alphabet_and_sequence(N)\n",
    "final_graph = create_final_graph(\n",
    "    create_word_graph(\n",
    "        create_dependent_relations(\n",
    "            N,\n",
    "            al\n",
    "        ),\n",
    "        seq\n",
    "    )\n",
    ")\n",
    "fnf, foat_list = create_FNF(final_graph, seq)\n",
    "reduce_foat_list(foat_list)\n",
    "\n",
    "matrix = multithread(matrix, foat_list, seq, N)\n",
    "x = solve_triangular_matrix(matrix, N)\n",
    "print(x)"
   ],
   "metadata": {
    "collapsed": false,
    "ExecuteTime": {
     "end_time": "2024-12-17T11:12:24.798294200Z",
     "start_time": "2024-12-17T11:12:23.835688600Z"
    }
   },
   "id": "9c3e5de6a60f7bde"
  },
  {
   "cell_type": "markdown",
   "source": [
    "Można zauważyć, że układy rozwiązywane są poprawnie, zatem algorytm działa."
   ],
   "metadata": {
    "collapsed": false
   },
   "id": "27e0ed75f342c6d"
  },
  {
   "cell_type": "code",
   "execution_count": null,
   "outputs": [],
   "source": [],
   "metadata": {
    "collapsed": false
   },
   "id": "f175c72657dd0418"
  }
 ],
 "metadata": {
  "kernelspec": {
   "display_name": "Python 3",
   "language": "python",
   "name": "python3"
  },
  "language_info": {
   "codemirror_mode": {
    "name": "ipython",
    "version": 2
   },
   "file_extension": ".py",
   "mimetype": "text/x-python",
   "name": "python",
   "nbconvert_exporter": "python",
   "pygments_lexer": "ipython2",
   "version": "2.7.6"
  }
 },
 "nbformat": 4,
 "nbformat_minor": 5
}
